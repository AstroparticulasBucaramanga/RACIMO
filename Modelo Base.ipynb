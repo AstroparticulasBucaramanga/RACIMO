{
 "cells": [
  {
   "cell_type": "markdown",
   "metadata": {
    "deletable": true,
    "editable": true
   },
   "source": [
    "# Importamos librerias"
   ]
  },
  {
   "cell_type": "code",
   "execution_count": 80,
   "metadata": {
    "collapsed": true,
    "deletable": true,
    "editable": true
   },
   "outputs": [],
   "source": [
    "import numpy as np\n",
    "import datetime as dt\n",
    "#from datetime import datetime\n",
    "import matplotlib.pyplot as plt\n",
    "%matplotlib inline"
   ]
  },
  {
   "cell_type": "code",
   "execution_count": 81,
   "metadata": {
    "collapsed": true,
    "deletable": true,
    "editable": true
   },
   "outputs": [],
   "source": [
    "# Cargamos los datos\n",
    "data = np.loadtxt('dismax_5MeV.dat')"
   ]
  },
  {
   "cell_type": "markdown",
   "metadata": {
    "deletable": true,
    "editable": true
   },
   "source": [
    "# FUNCIONES"
   ]
  },
  {
   "cell_type": "code",
   "execution_count": 15,
   "metadata": {
    "collapsed": true,
    "deletable": true,
    "editable": true
   },
   "outputs": [],
   "source": [
    "def suaviza(vector,porcentaje):\n",
    "    # Guardamos en en \"vector\" los datos que deseamos suavizar\n",
    "    #vector = halley[:,1]\n",
    "    vector = list(vector)\n",
    "\n",
    "    # Establecemos una ventana y lo que hara el codigo copiar del mismo ancho de la ventana datos\n",
    "    # Al comienzo y al final para luego contatenarlos, antes y despues\n",
    "    # Luego suma del ancho antes y depues del punto en el cual estoy parado\n",
    "    # y sacamos el promedio de dichos datos\n",
    "\n",
    "    final_vector = []\n",
    "    #ancho_ventana = 500\n",
    "    ancho_ventana = round((porcentaje/100)*len(vector))\n",
    "    vector_por_suavizar = vector[:ancho_ventana] + vector + vector[-ancho_ventana:]\n",
    "    for i in range(len(vector_por_suavizar)):\n",
    "        if (i >= ancho_ventana and i <= int(len(vector_por_suavizar)) - ancho_ventana -1 ):\n",
    "            #print (vector_por_suavizar[i])\n",
    "            suma_acumulada = 0\n",
    "            top = 2*ancho_ventana + 1\n",
    "            #print (vector_por_suavizar[i],top)\n",
    "            for j in range(i-ancho_ventana,i+ancho_ventana+1):\n",
    "                #print (j)\n",
    "                suma_acumulada = suma_acumulada + vector_por_suavizar[j]\n",
    "                #print ('Elemento a suma:',vector_por_suavizar[i+j-1])\n",
    "            final_vector.append(suma_acumulada*(1/top))\n",
    "            #print ('Suma',suma_acumulada*(1/top))\n",
    "            #vector_por_suavizar[i] = suma_acumulada\n",
    "    #final_vector = vector_por_suavizar[ancho_ventana:-ancho_ventana]\n",
    "    return final_vector\n",
    "\n",
    "    #Todos los vectores arreglados se guardaran en final_vector"
   ]
  }
 ],
 "metadata": {
  "kernelspec": {
   "display_name": "Python 2",
   "language": "python",
   "name": "python2"
  },
  "language_info": {
   "codemirror_mode": {
    "name": "ipython",
    "version": 2
   },
   "file_extension": ".py",
   "mimetype": "text/x-python",
   "name": "python",
   "nbconvert_exporter": "python",
   "pygments_lexer": "ipython2",
   "version": "2.7.13"
  }
 },
 "nbformat": 4,
 "nbformat_minor": 2
}
