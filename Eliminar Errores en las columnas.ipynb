{
 "cells": [
  {
   "cell_type": "markdown",
   "metadata": {},
   "source": [
    "# Importamos Librerias"
   ]
  },
  {
   "cell_type": "code",
   "execution_count": 6,
   "metadata": {
    "collapsed": true
   },
   "outputs": [],
   "source": [
    "import pandas as pd\n",
    "import numpy as np"
   ]
  },
  {
   "cell_type": "code",
   "execution_count": 7,
   "metadata": {
    "collapsed": true
   },
   "outputs": [],
   "source": [
    "# Cargamos los Datos con errores al final de las columnas\n",
    "data = pd.read_csv('output.dat')\n",
    "new_data = []"
   ]
  },
  {
   "cell_type": "code",
   "execution_count": 8,
   "metadata": {
    "collapsed": true
   },
   "outputs": [],
   "source": [
    "# EL proposito de esta parte es eliminar los encabezados\n",
    "# para ello lo que hacemos es cargar todos lo numeros en otro vector a parte llamado new_data\n",
    "\n",
    "for i in range(len(data['# CIANDES     '])):\n",
    "    if ( data['# CIANDES     '][i][0] != '#' ):\n",
    "        #print (data['# FATIMA     '][i])\n",
    "        new_data.append(data['# CIANDES     '][i])"
   ]
  },
  {
   "cell_type": "code",
   "execution_count": 9,
   "metadata": {},
   "outputs": [],
   "source": [
    "# Separamos los datos en 7 columnas diferentes, separandolos con el comando split()\n",
    "\n",
    "for i in range(len(new_data)):\n",
    "    new_data[i] = new_data[i].split()"
   ]
  },
  {
   "cell_type": "code",
   "execution_count": 10,
   "metadata": {
    "collapsed": true
   },
   "outputs": [],
   "source": [
    "# lo que hacemos es iterar cada columna y cada elemento preguntado si alguno de ellos tiene mas de dos\n",
    "# puntos, en cuyo caso se recorta hasta el ultimo numero antes del punto\n",
    "# Cada valor arreglado es mostrado abajo\n",
    "\n",
    "for i in range(7):                                     # Iteramos en las 7 columnas\n",
    "    for j in range(len(new_data)):                     # Y en cada elemento de cada columna\n",
    "        cont = 0\n",
    "        for k in range(len(new_data[j][i])):           #  Contabilizamos cuantos puntos (.) hay \n",
    "            if ( new_data[j][i][k] == '.' ):           # Si hay mas de dos puntos tenemos un error, contabilizamos\n",
    "                cont = cont + 1\n",
    "        if (cont == 2):                                # Si tiene 2 puntos        \n",
    "            print ('Dato Antes: ',new_data[j][i])\n",
    "            for k in range(len(new_data[j][i])):\n",
    "                if ( new_data[j][i][k] == '.' ):\n",
    "                    limit = k\n",
    "                    #print (k)\n",
    "                    new_data[j][i] = new_data[j][i][:k]  # Lo recortamos hasta el\n",
    "                    print ('Dato Despues: ',new_data[j][i])\n",
    "                    break\n",
    "                    \n",
    "                #if ( new_data[j][i][h] == '.' ):\n",
    "                    #new_data[j][i] = new_data[j][i][:h]\n",
    "                    #print (new_data[j][i])\n",
    "                    \n",
    "\n",
    "                "
   ]
  },
  {
   "cell_type": "code",
   "execution_count": 11,
   "metadata": {
    "collapsed": true
   },
   "outputs": [],
   "source": [
    "# Convertimos cada string en flotante\n",
    "for i in range(7):\n",
    "    for j in range(len(new_data)):\n",
    "        new_data[j][i] = float(new_data[j][i])        "
   ]
  },
  {
   "cell_type": "code",
   "execution_count": 12,
   "metadata": {
    "collapsed": true
   },
   "outputs": [],
   "source": [
    "#Por ultimo guardamos los datos en nuevo archivo de texto llamado output_c \n",
    "    \n",
    "np.savetxt('CIANDES_2.txt',new_data,fmt='%1.12e')"
   ]
  },
  {
   "cell_type": "code",
   "execution_count": null,
   "metadata": {
    "collapsed": true
   },
   "outputs": [],
   "source": []
  }
 ],
 "metadata": {
  "kernelspec": {
   "display_name": "Python 3",
   "language": "python",
   "name": "python3"
  },
  "language_info": {
   "codemirror_mode": {
    "name": "ipython",
    "version": 3
   },
   "file_extension": ".py",
   "mimetype": "text/x-python",
   "name": "python",
   "nbconvert_exporter": "python",
   "pygments_lexer": "ipython3",
   "version": "3.6.1"
  }
 },
 "nbformat": 4,
 "nbformat_minor": 2
}
